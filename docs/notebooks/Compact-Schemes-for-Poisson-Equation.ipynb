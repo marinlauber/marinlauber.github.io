{
 "cells": [
  {
   "cell_type": "code",
   "execution_count": 1,
   "metadata": {},
   "outputs": [],
   "source": [
    "import numpy as np\n",
    "import matplotlib.pyplot as plt\n",
    "from scipy import sparse, fftpack\n",
    "from math import factorial as fact\n",
    "try:\n",
    "    plt.style.use(\"jupyter\")\n",
    "except OSerror:\n",
    "    print(\"Using default ploting style\")\n",
    "# L-p norm function\n",
    "norm = lambda v, p=2 : (len(v)**(-p)*np.einsum('i->', np.abs(v)**2))**(1./p)"
   ]
  },
  {
   "cell_type": "markdown",
   "metadata": {},
   "source": [
    "### Compact n$^{th}$-order derivative\n",
    "\n",
    "The compact coefficients for the $n^{th}$ derivative $f^{(n)}$ of a function can be found by solving the system\n",
    "\n",
    "$$\n",
    "\\begin{bmatrix}\n",
    "    \\begin{matrix}\n",
    "        0 & 0 & 0\n",
    "    \\end{matrix} & \\begin{matrix}\n",
    "        1 & 1 & 1\\\\\n",
    "    \\end{matrix}\\\\\n",
    "    Q^{(n)} & \\begin{matrix}\n",
    "h_{i-1} & 0 & h_{i+1}\\\\\n",
    "h_{i-1}^2/2! & 0 & h_{i+1}^2/2!\\\\\n",
    "h_{i-1}^3/3! & 0 & h_{i+1}^3/3!\\\\\n",
    "h_{i-1}^4/4! & 0 & h_{i+1}^4/4!\n",
    "\\end{matrix}\\\\\n",
    "\\begin{matrix}\n",
    "        0 & 1 & 0\n",
    "    \\end{matrix} & \\begin{matrix}\n",
    "        0 & 0 & 0\\\\\n",
    "    \\end{matrix}\\\\\n",
    "\\end{bmatrix}\\begin{bmatrix}\n",
    "L_{i-1} \\\\ L_{i} \\\\ L_{i+1} \\\\ -R_{i-1} \\\\ -R_{i} \\\\ -R_{i+1}\\\\\n",
    "\\end{bmatrix}=\\begin{bmatrix}\n",
    "0\\\\ 0\\\\ 0\\\\ 0\\\\ 0\\\\ 1\\\\,\n",
    "\\end{bmatrix}\n",
    "$$\n",
    "\n",
    "where $h_{i-1}=x_{i-1}-x_i$ and $h_{i+1} = x_{i+1}-x_i$. The sub-matrix $Q^{(n)}$ depends on the derivative required. For the first derivative, we have\n",
    "\n",
    "$$\n",
    "Q^{(1)} = \\begin{bmatrix}\n",
    "1 & 1 & 1\\\\\n",
    "h_{i-1} & 0 & h_{i+1}\\\\\n",
    "h_{i-1}^2/2! & 0 & h_{i+1}^2/2!\\\\\n",
    "h_{i-1}^3/3! & 0 & h_{i+1}^3/3!\\\\\n",
    "\\end{bmatrix}\n",
    "$$\n",
    "\n",
    "and for the second derivative\n",
    "\n",
    "$$\n",
    "Q^{(2)} = \\begin{bmatrix}\n",
    "0 & 0 & 0\\\\\n",
    "1 & 1 & 1\\\\\n",
    "h_{i-1} & 0 & h_{i+1}\\\\\n",
    "h_{i-1}^2/2! & 0 & h_{i+1}^2/2!\\\\\n",
    "\\end{bmatrix}.\n",
    "$$"
   ]
  },
  {
   "cell_type": "code",
   "execution_count": 2,
   "metadata": {},
   "outputs": [],
   "source": [
    "def get_compact_coeffs(n, hi):\n",
    "    # assumes uniform grid\n",
    "    h_i = -hi\n",
    "    r = np.hstack((np.array([0 for i in range(5)]),1.))\n",
    "    L = np.array([[0, 0, 0, 1, 1, 1],\n",
    "                  [0, 0, 0, h_i, 0, hi],\n",
    "                  [0, 0, 0, h_i**2/fact(2), 0, hi**2/fact(2)],\n",
    "                  [0, 0, 0, h_i**3/fact(3), 0, hi**3/fact(3)],\n",
    "                  [0, 0, 0, h_i**4/fact(4), 0, hi**4/fact(4)],\n",
    "                  [0, 1, 0, 0, 0, 0]])\n",
    "    insert = np.array([[1,           1,                1],\n",
    "                       [h_i,         0,               hi],\n",
    "                       [h_i**2/fact(2), 0, hi**2/fact(2)],\n",
    "                       [h_i**3/fact(3), 0, hi**3/fact(3)]])\n",
    "    L[n:5,:3] = insert[:-n+5,:]\n",
    "    vec = np.round(np.linalg.solve(L, r), 8)\n",
    "    return vec[:3], -vec[3:]"
   ]
  },
  {
   "cell_type": "markdown",
   "metadata": {},
   "source": [
    "We can check that for a first derivative, we recover the standard Pade ($4^{th}$-order) [coefficients](https://github.com/marinlauber/my-numerical-recipes/blob/master/Compact-Schemes.ipynb), which are\n",
    "\n",
    "$$\n",
    "   L = \\left[\\frac{1}{4}, 1, \\frac{1}{4}\\right], \\qquad R = \\left[-\\frac{3}{4}, 0., \\frac{3}{4}\\right]\n",
    "$$"
   ]
  },
  {
   "cell_type": "code",
   "execution_count": 3,
   "metadata": {},
   "outputs": [
    {
     "data": {
      "text/plain": [
       "True"
      ]
     },
     "execution_count": 3,
     "metadata": {},
     "output_type": "execute_result"
    }
   ],
   "source": [
    "pade = np.array([1./4., 1., 1./4., -3./4., 0., 3./4.])\n",
    "np.allclose(np.hstack(get_compact_coeffs(1, 1)), pade)"
   ]
  },
  {
   "cell_type": "markdown",
   "metadata": {},
   "source": [
    "We can now write a function that, given a function $f$, on a uniform grid with spacing $dx$, return the $n^{th}$ derivative of that function. Because for each point we solve for the compact coefficients, we can in theory get compact schemes on non-uniform grid with the same accuracy. Here we will only focs on uniform grids."
   ]
  },
  {
   "cell_type": "code",
   "execution_count": 4,
   "metadata": {},
   "outputs": [],
   "source": [
    "def derive_compact(n, f, dx):\n",
    "    \n",
    "    # get coeffs\n",
    "    L, R = get_compact_coeffs(n, dx)\n",
    "    \n",
    "    # temp array\n",
    "    sol = np.empty_like(f)\n",
    "    \n",
    "    # compact scheme on interior points\n",
    "    sol[2:-2] = R[0]*f[1:-3] + R[1]*f[2:-2] + R[2]*f[3:-1]\n",
    "    \n",
    "    # boundary points\n",
    "    sol[-2] = R[0]*f[-3] + R[1]*f[-2] + R[2]*f[-1]\n",
    "    sol[-1] = R[0]*f[-2] + R[1]*f[-1] + R[2]*f[-0]\n",
    "    sol[ 0] = R[0]*f[-1] + R[1]*f[ 0] + R[2]*f[ 1]\n",
    "    sol[ 1] = R[0]*f[ 0] + R[1]*f[ 1] + R[2]*f[ 2]\n",
    "    \n",
    "    # build ugly matrix by hand\n",
    "    A = sparse.diags(L,[-1,0,1],shape=(len(f),len(f))).toarray()\n",
    "    # periodic BS's\n",
    "    A[ 0,-1] = L[0]\n",
    "    A[-1, 0] = L[2]\n",
    "        \n",
    "    return np.linalg.solve(A, sol)"
   ]
  },
  {
   "cell_type": "markdown",
   "metadata": {},
   "source": [
    "We can then test the method on a known function, with known first and second derivaive. For simplicity, we will use trigonometric functions, which have well-behaved infinite derivatives.\n",
    "\n",
    "$$\n",
    "    f(x) = \\sin(x), \\,\\, x\\in[0, 2\\pi]\n",
    "$$\n",
    "\n",
    "such that\n",
    "\n",
    "$$\n",
    "    \\frac{d}{dx}f(x) = \\cos(x), \\quad \\frac{d^2}{dx^2}f(x) = -\\sin(x), \\,\\, x\\in[0, 2\\pi]\n",
    "$$"
   ]
  },
  {
   "cell_type": "code",
   "execution_count": 5,
   "metadata": {},
   "outputs": [
    {
     "name": "stdout",
     "output_type": "stream",
     "text": [
      "First derivative L2 norm:   2.00356231982653e-09\n",
      "Second derivative L2 norm:  1.5119843767976088e-09\n"
     ]
    }
   ],
   "source": [
    "N = 128\n",
    "x, dx = np.linspace(0, 2*np.pi, N, retstep=True, endpoint=False)\n",
    "function = np.sin(x)\n",
    "\n",
    "# first derivative\n",
    "sol = derive_compact(1, function, dx)\n",
    "print('First derivative L2 norm:  ', norm(sol-np.cos(x)))\n",
    "\n",
    "# second derivative\n",
    "sol = derive_compact(2, function, dx)\n",
    "print('Second derivative L2 norm: ', norm(sol+np.sin(x)))"
   ]
  },
  {
   "cell_type": "markdown",
   "metadata": {},
   "source": [
    "### Poisson Equation With Compact Schemes\n",
    "\n",
    "We aim to solve the following one-dimensionnal Poisson equation with Dirichlet boudnary conditions\n",
    "\n",
    "$$\n",
    "\\begin{split}\n",
    "    -&\\frac{d^2}{dx^2}u(x) = f(x), \\quad a<x<b\\\\\n",
    "    &u(a) = 0, \\quad u(b) = 0\\\\\n",
    "\\end{split}\n",
    "$$\n",
    "\n",
    "where $a, b\\in\\mathbb{R}$, $u(x)$ is the unkown function and $f(x)$ is some given source function. We discretize the left side of the Poisson equaution ($u''_i$) using a compact finite difference scheme with fourth-order accuracy on a uniform grid with grid points being $x_i = a+ih, h=(b-a)/M, i=0, 1, 2,..., M$ where $M$ is a positive integer. \n",
    "\n",
    "$$\n",
    "\\frac{1}{10}u''_{i-1} + u''_i + \\frac{1}{10}u''_{i+1} = \\frac{6}{5}\\frac{u_{i+1} + 2u_i + u_{i-1}}{h^2},\n",
    "$$\n",
    "\n",
    "or in a more common form,\n",
    "\n",
    "$$\n",
    "u''_{i-1} + 10u''_i + u''_{i+1} = \\frac{12}{h^2}\\left(u_{i+1} + 2u_i + u_{i-1}\\right).\n",
    "$$\n",
    "\n",
    "This results in the following tri-diagonal system\n",
    "\n",
    "$$\n",
    "    AU''= \\frac{12}{h^2}BU,\n",
    "$$\n",
    "\n",
    "where $U'' = (u''_1,u''_2,...,u''_M)^\\top$ and $U = (u_1,u_2,...,u_M)^\\top\\in \\mathbb{R}^{M-1}$. The tri-diagonal matrix $A, B \\in \\mathbb{R}^{M-1\\times M-1}$ are\n",
    "\n",
    "$$\n",
    "A = \\begin{bmatrix}\n",
    "10 & 1 & 0 &\\dots & 0 & 0 \\\\\n",
    "1 & 10 & 1 &\\dots & 0 & 0 \\\\\n",
    "0 & 1 & 10 &\\dots & 0 & 0 \\\\\n",
    "\\vdots & \\vdots & \\vdots & \\ddots & \\vdots & \\vdots \\\\\n",
    "0 & 0 & 0 & \\dots & 10 & 1 \\\\\n",
    "0 & 0 & 0 &\\dots & 1 & 10 \\\\\n",
    "\\end{bmatrix}, \\qquad B = \\begin{bmatrix}\n",
    "-2 & 1 & 0 &\\dots & 0 & 0 \\\\\n",
    "1 & -2 & 1 &\\dots & 0 & 0 \\\\\n",
    "0 & 1 & -2 &\\dots & 0 & 0 \\\\\n",
    "\\vdots & \\vdots & \\vdots & \\ddots & \\vdots & \\vdots \\\\\n",
    "0 & 0 & 0 & \\dots & -2 & 1 \\\\\n",
    "0 & 0 & 0 &\\dots & 1 & -2 \\\\\n",
    "\\end{bmatrix}.\n",
    "$$\n",
    "\n",
    "In addition, we have $-u''(x_i)=f(x_i), i=1,2,...,M-1$ i.e. $-U''=F$. We can re-write out system as\n",
    "\n",
    "$$\n",
    "   -\\frac{12}{h^2}BU = AF,\n",
    "$$\n",
    "\n",
    "To obtaine the solution $U$, we simply need to solve the system."
   ]
  },
  {
   "cell_type": "code",
   "execution_count": 6,
   "metadata": {},
   "outputs": [],
   "source": [
    "def build_AB(M, h):\n",
    "    A = sparse.diags([1.,10.,1.],[-1,0,1],shape=(M, M)).toarray()\n",
    "    B = sparse.diags([1.,-2.,1.],[-1,0,1],shape=(M, M)).toarray()\n",
    "    # dont forget BC, here homogeneous Dirichlet\n",
    "    B[ 0,:]=0.; B[ 0, 0]=1\n",
    "    B[-1,:]=0.; B[-1,-1]=1\n",
    "    return A, -12./h**2*B"
   ]
  },
  {
   "cell_type": "markdown",
   "metadata": {},
   "source": [
    "In the first example, we consider the problem with homogeneous Dirichlet boundary conditions\n",
    "\n",
    "$$\n",
    "\\begin{cases}\n",
    "    -u''(x) = \\pi^2\\sin(\\pi x), & 0 < x <2,\\\\\n",
    "      u(0)=0, \\quad u(2) = 0.\n",
    "\\end{cases}\n",
    "$$\n",
    "\n",
    "The exact solution is $u_e(x)=\\sin(\\pi x)$."
   ]
  },
  {
   "cell_type": "code",
   "execution_count": 7,
   "metadata": {},
   "outputs": [],
   "source": [
    "def SolvePoissonCompact(f, h, M):\n",
    "    u0 = np.zeros_like(f)\n",
    "    A, B = build_AB(M, h)\n",
    "    sigma = np.matmul(A, f)\n",
    "    return np.linalg.solve(B, sigma)"
   ]
  },
  {
   "cell_type": "code",
   "execution_count": 8,
   "metadata": {},
   "outputs": [
    {
     "name": "stdout",
     "output_type": "stream",
     "text": [
      "6.02248257496857e-06\n"
     ]
    },
    {
     "data": {
      "text/plain": [
       "Text(0, 0.5, '$u$')"
      ]
     },
     "execution_count": 8,
     "metadata": {},
     "output_type": "execute_result"
    },
    {
     "data": {
      "image/png": "[encoded data removed]",
      "text/plain": [
       "<Figure size 576x360 with 1 Axes>"
      ]
     },
     "metadata": {
      "needs_background": "light"
     },
     "output_type": "display_data"
    }
   ],
   "source": [
    "M = 64\n",
    "x, h = np.linspace(0., 2., M, retstep=True, endpoint=True)\n",
    "f = np.pi**2*np.sin(np.pi*x)\n",
    "u_e = np.sin(np.pi*x)\n",
    "u_num =  SolvePoissonCompact(f, h, M)\n",
    "print(norm(u_num-u_e))\n",
    "plt.plot(x, u_e, '-s')\n",
    "plt.plot(x, u_num,'-o')\n",
    "plt.xlabel(r\"$x$\");plt.ylabel(r\"$u$\")\n",
    "# plt.savefig(\"figure_1.png\", dpi=300);"
   ]
  },
  {
   "cell_type": "markdown",
   "metadata": {},
   "source": [
    "Now with non-zero Dirichlet Boundry conditions\n",
    "\n",
    "$$\n",
    "\\begin{cases}\n",
    "    -u''(x) = 12e^{-x^2}(-x^2+1/2), & -8 < x <8,\\\\\n",
    "      u(-8)=-8, \\quad u(8) = 8.\n",
    "\\end{cases}\n",
    "$$\n",
    "\n",
    "The exact solution is $u_e(x)=3e^{-x^2}$. I. the numerical computation, we denote $U(x)=u(x)-x$ using change of variable. Applying tthe numerical algorithm, we now have \n",
    "\n",
    "$$\n",
    "\\begin{cases}\n",
    "    -U''(x) = 12e^{-x^2}(-x^2+1/2), & -8 < x <8,\\\\\n",
    "      U(-8)=-0, \\quad U(8) = 0.\n",
    "\\end{cases}\n",
    "$$\n",
    "\n",
    "and the approximate numerical solution at a grid point is found as $u(x) = U(x)=x$. "
   ]
  },
  {
   "cell_type": "code",
   "execution_count": 9,
   "metadata": {},
   "outputs": [
    {
     "name": "stdout",
     "output_type": "stream",
     "text": [
      "0.5864429590964948\n"
     ]
    },
    {
     "data": {
      "image/png": "[encoded data removed]",
      "text/plain": [
       "<Figure size 576x360 with 1 Axes>"
      ]
     },
     "metadata": {
      "needs_background": "light"
     },
     "output_type": "display_data"
    }
   ],
   "source": [
    "M = 64\n",
    "x, h = np.linspace(-8., 8., M, retstep=True, endpoint=True)\n",
    "f = 12.*np.exp(-x**2)*(-x**2 + 0.5)\n",
    "u_e = 3.*np.exp(-x**2)+x\n",
    "u_num = SolvePoissonCompact(f, h, M)\n",
    "print(norm(u_num-u_e))\n",
    "plt.plot(x, u_e, '-s')\n",
    "plt.plot(x, u_num+x,'-o')\n",
    "plt.xlabel(r\"$x$\");plt.ylabel(r\"$u$\");\n",
    "# plt.savefig(\"figure_2.png\", dpi=300);"
   ]
  },
  {
   "cell_type": "markdown",
   "metadata": {},
   "source": [
    "### Using Faste Fourier Transforms to Solve the Poisson Equation\n",
    "\n",
    "\n",
    "We actually do not need ton inverte the system described earlier to get the solution, [see](https://www.sciencedirect.com/science/article/pii/S0898122116300761). We can use the Sine transform for $U\\in\\mathbb{R}^{M-1}$\n",
    "\n",
    "$$\n",
    "\\begin{split}\n",
    "    u_j &= \\sum_{k=1}^{M-1}\\hat{u}_k\\sin\\left(\\frac{jk\\pi}{M}\\right), \\,\\, j=1,2,...,M-1,\\\\\n",
    "    \\hat{u_k} &= \\frac{2}{M}\\sum_{j=1}^{M-1}u_j\\sin\\left(\\frac{ik\\pi}{M}\\right), \\,\\, j=1,2,...,M-1,\n",
    "\\end{split}\n",
    "$$\n",
    "\n",
    "from whcih we can approximate $u_{i+1}, u_{i-1}, u''_{i+1}, u''_{i-1}$ as\n",
    "\n",
    "$$\n",
    "\\begin{align}\n",
    "   u_{i+1}=\\sum_{k=1}^{M-1}\\hat{u}_k\\sin\\left(\\frac{(i+1)k\\pi}{M}\\right),\\qquad & u_{i-1} = \\sum_{k=1}^{M-1}\\hat{u}_k\\sin\\left(\\frac{(i-1)k\\pi}{M}\\right)\\\\\n",
    "   u''_{i} =\\sum_{k=1}^{M-1}\\hat{u}''_k\\sin\\left(\\frac{ik\\pi}{M}\\right),\\qquad & u''_{i+1} =\\sum_{k=1}^{M-1}\\hat{u}''_k\\sin\\left(\\frac{(i+1)k\\pi}{M}\\right)\\\\\n",
    "   u''_{i-1} =\\sum_{k=1}^{M-1}\\hat{u}''_k\\sin\\left(\\frac{(i-1)k\\pi}{M}\\right). & \\\\\n",
    "\\end{align}\n",
    "$$\n",
    "\n",
    "Subsituting in the compact discretization of the Poisson equation gives, \n",
    "\n",
    "$$\n",
    "\\sum_{k=1}^{M-1}\\hat{u}''_k\\left\\{ \\frac{1}{10}\\sin\\left(\\frac{(i-1)k\\pi}{M}\\right) + \\sin\\left(\\frac{ik\\pi}{M}\\right) + \\frac{1}{10}\\sin\\left(\\frac{(i+1)k\\pi}{M}\\right) \\right\\} =\\frac{6}{5h^2}\\sum_{k=1}^{M-1}\\hat{u}_k\\left\\{ \\sin\\left(\\frac{(i-1)k\\pi}{M}\\right) +\\sin\\left(\\frac{(i+1)k\\pi}{M}\\right) - 2\\sin\\left(\\frac{ik\\pi}{M}\\right) \\right\\}\n",
    "$$\n",
    "\n",
    "or, after rearranging\n",
    "\n",
    "$$\n",
    "\\hat{u}_k = -\\hat{u}''_k\\left(\\frac{24\\sin^2\\left(\\frac{k\\pi}{2M}\\right)}{h^2}\\right)^{-1}\\left(\\cos\\left(\\frac{k\\pi}{M}\\right)+5\\right), \\,\\, k\\in 1,2,..,M-1.\n",
    "$$\n",
    "\n",
    "In addition, we obtain $-u''_i = f_i \\,(i=1,2,...,M-1)$. By the inverse Sine transform, we get to know $-\\hat{u}''_k=\\hat{f}_k \\, (k=1,2,...,M-1)$, whci allows us to solve for $\\hat{u}$\n",
    "\n",
    "$$\n",
    "\\hat{u}_k = \\hat{f}_k\\left(\\frac{24\\sin^2\\left(\\frac{k\\pi}{2M}\\right)}{h^2}\\right)^{-1}\\left(\\cos\\left(\\frac{k\\pi}{M}\\right)+5\\right), \\,\\, k\\in 1,2,..,M-1.\n",
    "$$\n",
    "\n",
    "> **_Note:_** We use a spectral method to solve the tri-diagonal system, this doesn't mean we solve it with spectral accuracy, here the modified wavenumber makes the spectral method the exact same accuracy as the compact scheme.\n"
   ]
  },
  {
   "cell_type": "code",
   "execution_count": 10,
   "metadata": {},
   "outputs": [],
   "source": [
    "def SolvePoissonSine(f, h, M):\n",
    "    f_k = fftpack.dst(f, norm='ortho')\n",
    "    k = np.arange(1,M+1)\n",
    "    u_k = f_k*(24*np.sin(k*np.pi/(2*M))**2./h**2.)**(-1.)*(np.cos(np.pi*k/M)+5.)\n",
    "    return fftpack.idst(u_k, norm='ortho')"
   ]
  },
  {
   "cell_type": "code",
   "execution_count": 11,
   "metadata": {},
   "outputs": [
    {
     "name": "stdout",
     "output_type": "stream",
     "text": [
      "0.5864429590964948\n"
     ]
    },
    {
     "data": {
      "image/png": "[encoded data removed]",
      "text/plain": [
       "<Figure size 576x360 with 1 Axes>"
      ]
     },
     "metadata": {
      "needs_background": "light"
     },
     "output_type": "display_data"
    }
   ],
   "source": [
    "M = 64\n",
    "x, h = np.linspace(-8, 8, M, retstep=True, endpoint=True)\n",
    "f = 12.*np.exp(-x**2)*(-x**2 + 0.5)\n",
    "u_e = 3.*np.exp(-x**2)+x\n",
    "u_num = SolvePoissonSine(f, h, M)\n",
    "print(norm(u_num-u_e))\n",
    "plt.plot(x, u_num + x, '-o')\n",
    "plt.plot(x, u_e, 's')\n",
    "plt.xlabel(r\"$x$\");plt.ylabel(r\"$u$\");\n",
    "# plt.savefig(\"figure_3.png\", dpi=300);"
   ]
  },
  {
   "cell_type": "markdown",
   "metadata": {},
   "source": [
    "### Order of Accuracy\n",
    "\n"
   ]
  },
  {
   "cell_type": "code",
   "execution_count": 12,
   "metadata": {},
   "outputs": [
    {
     "data": {
      "image/png": "[encoded data removed]",
      "text/plain": [
       "<Figure size 576x360 with 1 Axes>"
      ]
     },
     "metadata": {
      "needs_background": "light"
     },
     "output_type": "display_data"
    }
   ],
   "source": [
    "L2_com = []\n",
    "L2_Sine = []\n",
    "Resolutions = 2.**np.arange(4,9)\n",
    "for N in Resolutions:\n",
    "    x, h = np.linspace(0., 2., int(N), retstep=True, endpoint=True)\n",
    "    f = np.pi**2*np.sin(np.pi*x)\n",
    "    u_e = np.sin(np.pi*x)\n",
    "    u_num = SolvePoissonCompact(f, h, int(N))\n",
    "    error = norm(u_num-u_e)\n",
    "    L2_com.append(error)\n",
    "    u_num = SolvePoissonSine(f, h, int(N))\n",
    "    error = norm(u_num-u_e)\n",
    "    L2_Sine.append(error)\n",
    "plt.loglog(Resolutions, np.array(L2_com), '--o', label='Compact Schemes')\n",
    "plt.loglog(Resolutions, np.array(L2_Sine), ':s', label='Sine Transform')\n",
    "plt.loglog(Resolutions, Resolutions**(-4), ':k', alpha=0.5, label=r\"$4^{th}$-order\")\n",
    "plt.xlabel(\"Resolution (N)\"); plt.ylabel(r\"$L_2$-norm Error\")\n",
    "plt.legend();\n",
    "# plt.savefig(\"figure_4.png\", dpi=300);"
   ]
  }
 ],
 "metadata": {
  "kernelspec": {
   "display_name": "Python 3",
   "language": "python",
   "name": "python3"
  },
  "language_info": {
   "codemirror_mode": {
    "name": "ipython",
    "version": 3
   },
   "file_extension": ".py",
   "mimetype": "text/x-python",
   "name": "python",
   "nbconvert_exporter": "python",
   "pygments_lexer": "ipython3",
   "version": "3.9.0"
  }
 },
 "nbformat": 4,
 "nbformat_minor": 4
}
